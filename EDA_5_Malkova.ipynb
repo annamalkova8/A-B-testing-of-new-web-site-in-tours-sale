{
 "cells": [
  {
   "attachments": {},
   "cell_type": "markdown",
   "id": "c8a6af25-08d3-487a-bd90-001772ac9161",
   "metadata": {},
   "source": [
    "## <center> **Analyzing A/B Testing Results**"
   ]
  },
  {
   "attachments": {},
   "cell_type": "markdown",
   "id": "d7d45571-6545-4904-a86b-9b3b6b8163d3",
   "metadata": {},
   "source": [
    "The company plans to launch a new promotion to sell as many tours as possible. The team developed two versions of the landing page of the company's official website and conducted A/B testing. The data collected as a result of the experiment can be found here.\n",
    "\n",
    "You have to solve a real business problem: to analyze the effectiveness of both variants of the landing page by two criteria at once: purchase conversion and average check. Based on the analysis, you will need to draw conclusions and decide which of the design options is more preferable.\n",
    "\n",
    "So, our company offers the following tour options and their respective prices:\n",
    "* Thailand - 100,000 rubles;\n",
    "* Türkiye - 60,000 rubles;\n",
    "* Maldives - 200,000 rubles;\n",
    "* St. Petersburg - 10,000 rubles;\n",
    "* Kamchatka - 150,000 rubles."
   ]
  },
  {
   "cell_type": "code",
   "execution_count": 60,
   "id": "a974b482-e192-4014-8520-8a5c0c946da6",
   "metadata": {},
   "outputs": [],
   "source": [
    "import pandas as pd\n",
    "import matplotlib.pyplot as plt\n",
    "import seaborn as sns\n",
    "from scipy.stats import norm\n",
    "from scipy.stats import t\n",
    "from scipy.stats import ttest_ind, shapiro, f_oneway, mannwhitneyu\n",
    "from statsmodels.stats.proportion import proportions_ztest"
   ]
  },
  {
   "attachments": {},
   "cell_type": "markdown",
   "id": "55c84550-4162-4325-acc2-7d3c0aafe6f0",
   "metadata": {},
   "source": [
    "Study of data"
   ]
  },
  {
   "cell_type": "code",
   "execution_count": 61,
   "id": "b0d18245-b9da-44bd-8aea-d272ea74b63a",
   "metadata": {},
   "outputs": [
    {
     "data": {
      "text/html": [
       "<div>\n",
       "<style scoped>\n",
       "    .dataframe tbody tr th:only-of-type {\n",
       "        vertical-align: middle;\n",
       "    }\n",
       "\n",
       "    .dataframe tbody tr th {\n",
       "        vertical-align: top;\n",
       "    }\n",
       "\n",
       "    .dataframe thead th {\n",
       "        text-align: right;\n",
       "    }\n",
       "</style>\n",
       "<table border=\"1\" class=\"dataframe\">\n",
       "  <thead>\n",
       "    <tr style=\"text-align: right;\">\n",
       "      <th></th>\n",
       "      <th>user_id</th>\n",
       "      <th>date</th>\n",
       "      <th>group</th>\n",
       "      <th>purchase</th>\n",
       "      <th>price</th>\n",
       "    </tr>\n",
       "  </thead>\n",
       "  <tbody>\n",
       "    <tr>\n",
       "      <th>0</th>\n",
       "      <td>851104</td>\n",
       "      <td>2021-01-21</td>\n",
       "      <td>A</td>\n",
       "      <td>0</td>\n",
       "      <td>0</td>\n",
       "    </tr>\n",
       "    <tr>\n",
       "      <th>1</th>\n",
       "      <td>804228</td>\n",
       "      <td>2021-01-12</td>\n",
       "      <td>A</td>\n",
       "      <td>0</td>\n",
       "      <td>0</td>\n",
       "    </tr>\n",
       "    <tr>\n",
       "      <th>2</th>\n",
       "      <td>661590</td>\n",
       "      <td>2021-01-11</td>\n",
       "      <td>B</td>\n",
       "      <td>0</td>\n",
       "      <td>0</td>\n",
       "    </tr>\n",
       "    <tr>\n",
       "      <th>3</th>\n",
       "      <td>853541</td>\n",
       "      <td>2021-01-08</td>\n",
       "      <td>B</td>\n",
       "      <td>0</td>\n",
       "      <td>0</td>\n",
       "    </tr>\n",
       "    <tr>\n",
       "      <th>4</th>\n",
       "      <td>864975</td>\n",
       "      <td>2021-01-21</td>\n",
       "      <td>A</td>\n",
       "      <td>1</td>\n",
       "      <td>150000</td>\n",
       "    </tr>\n",
       "  </tbody>\n",
       "</table>\n",
       "</div>"
      ],
      "text/plain": [
       "   user_id        date group  purchase   price\n",
       "0   851104  2021-01-21     A         0       0\n",
       "1   804228  2021-01-12     A         0       0\n",
       "2   661590  2021-01-11     B         0       0\n",
       "3   853541  2021-01-08     B         0       0\n",
       "4   864975  2021-01-21     A         1  150000"
      ]
     },
     "execution_count": 61,
     "metadata": {},
     "output_type": "execute_result"
    }
   ],
   "source": [
    "data = pd.read_csv('/Users/Anna/Study/skillfactory/practice/data_practice/ab_data_tourist.csv')\n",
    "data.head()"
   ]
  },
  {
   "cell_type": "code",
   "execution_count": 62,
   "id": "23496521-4878-46e2-ab02-1a98be14884a",
   "metadata": {},
   "outputs": [
    {
     "name": "stdout",
     "output_type": "stream",
     "text": [
      "<class 'pandas.core.frame.DataFrame'>\n",
      "RangeIndex: 294478 entries, 0 to 294477\n",
      "Data columns (total 5 columns):\n",
      " #   Column    Non-Null Count   Dtype \n",
      "---  ------    --------------   ----- \n",
      " 0   user_id   294478 non-null  int64 \n",
      " 1   date      294478 non-null  object\n",
      " 2   group     294478 non-null  object\n",
      " 3   purchase  294478 non-null  int64 \n",
      " 4   price     294478 non-null  int64 \n",
      "dtypes: int64(3), object(2)\n",
      "memory usage: 11.2+ MB\n"
     ]
    }
   ],
   "source": [
    "data.info()"
   ]
  },
  {
   "attachments": {},
   "cell_type": "markdown",
   "id": "946d017d-b4fe-4a17-b91d-0ce369d1ab2e",
   "metadata": {
    "tags": []
   },
   "source": [
    "Study of the period of investigation\n"
   ]
  },
  {
   "cell_type": "code",
   "execution_count": 63,
   "id": "604c619d-6338-45c8-8248-ac098a2366bb",
   "metadata": {},
   "outputs": [
    {
     "data": {
      "text/html": [
       "<div>\n",
       "<style scoped>\n",
       "    .dataframe tbody tr th:only-of-type {\n",
       "        vertical-align: middle;\n",
       "    }\n",
       "\n",
       "    .dataframe tbody tr th {\n",
       "        vertical-align: top;\n",
       "    }\n",
       "\n",
       "    .dataframe thead th {\n",
       "        text-align: right;\n",
       "    }\n",
       "</style>\n",
       "<table border=\"1\" class=\"dataframe\">\n",
       "  <thead>\n",
       "    <tr style=\"text-align: right;\">\n",
       "      <th></th>\n",
       "      <th>max</th>\n",
       "      <th>min</th>\n",
       "    </tr>\n",
       "    <tr>\n",
       "      <th>group</th>\n",
       "      <th></th>\n",
       "      <th></th>\n",
       "    </tr>\n",
       "  </thead>\n",
       "  <tbody>\n",
       "    <tr>\n",
       "      <th>A</th>\n",
       "      <td>2021-01-24</td>\n",
       "      <td>2021-01-02</td>\n",
       "    </tr>\n",
       "    <tr>\n",
       "      <th>B</th>\n",
       "      <td>2021-01-24</td>\n",
       "      <td>2021-01-02</td>\n",
       "    </tr>\n",
       "  </tbody>\n",
       "</table>\n",
       "</div>"
      ],
      "text/plain": [
       "             max        min\n",
       "group                      \n",
       "A     2021-01-24 2021-01-02\n",
       "B     2021-01-24 2021-01-02"
      ]
     },
     "execution_count": 63,
     "metadata": {},
     "output_type": "execute_result"
    }
   ],
   "source": [
    "data['date'] = pd.to_datetime(data['date'], format='%Y-%m-%d')\n",
    "data.groupby(['group'])['date'].agg(['max', 'min'])"
   ]
  },
  {
   "attachments": {},
   "cell_type": "markdown",
   "id": "e04eb341-52ae-48b3-9dc2-0578ca91641a",
   "metadata": {},
   "source": [
    "* What is the number of visits to the site in groups A and B?\n",
    "\n",
    "* What is the total number of purchases in groups A and B?\n",
    "\n",
    "* What is the sum of all purchases in groups A and B? Give your answer in millions of rubles."
   ]
  },
  {
   "cell_type": "code",
   "execution_count": 64,
   "id": "02bf0148-488e-4f34-95bf-37794b2fa98b",
   "metadata": {},
   "outputs": [
    {
     "data": {
      "text/html": [
       "<div>\n",
       "<style scoped>\n",
       "    .dataframe tbody tr th:only-of-type {\n",
       "        vertical-align: middle;\n",
       "    }\n",
       "\n",
       "    .dataframe tbody tr th {\n",
       "        vertical-align: top;\n",
       "    }\n",
       "\n",
       "    .dataframe thead th {\n",
       "        text-align: right;\n",
       "    }\n",
       "</style>\n",
       "<table border=\"1\" class=\"dataframe\">\n",
       "  <thead>\n",
       "    <tr style=\"text-align: right;\">\n",
       "      <th></th>\n",
       "      <th>group</th>\n",
       "      <th>user_id</th>\n",
       "      <th>purchase</th>\n",
       "      <th>price</th>\n",
       "    </tr>\n",
       "  </thead>\n",
       "  <tbody>\n",
       "    <tr>\n",
       "      <th>0</th>\n",
       "      <td>A</td>\n",
       "      <td>147202</td>\n",
       "      <td>17723</td>\n",
       "      <td>1436260000</td>\n",
       "    </tr>\n",
       "    <tr>\n",
       "      <th>1</th>\n",
       "      <td>B</td>\n",
       "      <td>147276</td>\n",
       "      <td>17514</td>\n",
       "      <td>1554100000</td>\n",
       "    </tr>\n",
       "  </tbody>\n",
       "</table>\n",
       "</div>"
      ],
      "text/plain": [
       "  group  user_id  purchase       price\n",
       "0     A   147202     17723  1436260000\n",
       "1     B   147276     17514  1554100000"
      ]
     },
     "execution_count": 64,
     "metadata": {},
     "output_type": "execute_result"
    }
   ],
   "source": [
    "data.groupby(['group']).agg({\n",
    "    'user_id':'count',\n",
    "    'purchase':'sum',\n",
    "    'price':'sum'\n",
    "}).reset_index()"
   ]
  },
  {
   "attachments": {},
   "cell_type": "markdown",
   "id": "2434db1b-17e6-4977-8e54-1df875c6f221",
   "metadata": {
    "tags": []
   },
   "source": [
    "Check if there are users who were in both test groups during the A / B test? If yes, how many such unique users, if not, enter 0 in the answer field?"
   ]
  },
  {
   "cell_type": "code",
   "execution_count": 65,
   "id": "57a2d711-057d-4f8b-9f56-df0f772d41c8",
   "metadata": {},
   "outputs": [
    {
     "data": {
      "text/plain": [
       "1895"
      ]
     },
     "execution_count": 65,
     "metadata": {},
     "output_type": "execute_result"
    }
   ],
   "source": [
    "set_a = set(data[data['group']=='A']['user_id'])\n",
    "set_b = set(data[data['group']=='B']['user_id'])\n",
    "user_intersection = set_a.intersection(set_b)\n",
    "len(user_intersection)"
   ]
  },
  {
   "attachments": {},
   "cell_type": "markdown",
   "id": "118b1904-7d7a-4935-825e-535da45c611b",
   "metadata": {
    "tags": []
   },
   "source": [
    "Exclusion of users in both groups"
   ]
  },
  {
   "cell_type": "code",
   "execution_count": 66,
   "id": "f618b34b-35a3-4bf1-8d6d-38b3401930b7",
   "metadata": {},
   "outputs": [],
   "source": [
    "updated_data = data[data['user_id'].apply(lambda x: x not in user_intersection)]"
   ]
  },
  {
   "attachments": {},
   "cell_type": "markdown",
   "id": "2ddf6b2c-7987-41f3-82b1-8992630ae97b",
   "metadata": {
    "tags": []
   },
   "source": [
    "Initial analysis of A/B testing results"
   ]
  },
  {
   "cell_type": "code",
   "execution_count": 67,
   "id": "5c0c018e-a250-48e9-b72a-e3c7be586ebd",
   "metadata": {},
   "outputs": [],
   "source": [
    "df = updated_data.groupby(['group']).agg({\n",
    "    'user_id':'count',\n",
    "    'purchase':'sum',\n",
    "    'price':'sum'\n",
    "}).reset_index().rename(columns={'user_id': 'count_visits', 'purchase':'count_purchases', 'price':'sum_price'}) "
   ]
  },
  {
   "attachments": {},
   "cell_type": "markdown",
   "id": "afb2ee0a-31d1-45a5-be42-a2bf168b9448",
   "metadata": {
    "tags": []
   },
   "source": [
    "Add columns to the grouped table conversion - purchase conversion (the ratio of the number of purchases to the number of site visits in each group, expressed as a percentage) and mean_check - the average check (the ratio of the amount of purchases to the number of purchases in each group).\n",
    "\n",
    "* What is the conversion in groups? Give your answer as a percentage and round to the nearest hundredth. For example, 75.12%\n",
    "* What is the average check in groups? Give your answer in rubles and round to the nearest integer. For example, 120519 rubles."
   ]
  },
  {
   "cell_type": "code",
   "execution_count": 68,
   "id": "bd9c3b3e-5956-41a8-bae0-43693f6de1f2",
   "metadata": {},
   "outputs": [
    {
     "data": {
      "text/html": [
       "<div>\n",
       "<style scoped>\n",
       "    .dataframe tbody tr th:only-of-type {\n",
       "        vertical-align: middle;\n",
       "    }\n",
       "\n",
       "    .dataframe tbody tr th {\n",
       "        vertical-align: top;\n",
       "    }\n",
       "\n",
       "    .dataframe thead th {\n",
       "        text-align: right;\n",
       "    }\n",
       "</style>\n",
       "<table border=\"1\" class=\"dataframe\">\n",
       "  <thead>\n",
       "    <tr style=\"text-align: right;\">\n",
       "      <th></th>\n",
       "      <th>group</th>\n",
       "      <th>count_visits</th>\n",
       "      <th>count_purchases</th>\n",
       "      <th>sum_price</th>\n",
       "      <th>conversion</th>\n",
       "      <th>mean_check</th>\n",
       "    </tr>\n",
       "  </thead>\n",
       "  <tbody>\n",
       "    <tr>\n",
       "      <th>0</th>\n",
       "      <td>A</td>\n",
       "      <td>145307</td>\n",
       "      <td>17487</td>\n",
       "      <td>1417780000</td>\n",
       "      <td>12.03</td>\n",
       "      <td>81076.0</td>\n",
       "    </tr>\n",
       "    <tr>\n",
       "      <th>1</th>\n",
       "      <td>B</td>\n",
       "      <td>145381</td>\n",
       "      <td>17290</td>\n",
       "      <td>1533010000</td>\n",
       "      <td>11.89</td>\n",
       "      <td>88665.0</td>\n",
       "    </tr>\n",
       "  </tbody>\n",
       "</table>\n",
       "</div>"
      ],
      "text/plain": [
       "  group  count_visits  count_purchases   sum_price  conversion  mean_check\n",
       "0     A        145307            17487  1417780000       12.03     81076.0\n",
       "1     B        145381            17290  1533010000       11.89     88665.0"
      ]
     },
     "execution_count": 68,
     "metadata": {},
     "output_type": "execute_result"
    }
   ],
   "source": [
    "df['conversion'] = round((df['count_purchases']/df['count_visits']*100),2)\n",
    "df['mean_check'] = round(df['sum_price']/df['count_purchases'])\n",
    "df"
   ]
  },
  {
   "attachments": {},
   "cell_type": "markdown",
   "id": "7f9f1ae0-f12f-49b3-8b57-1c299c208c49",
   "metadata": {
    "tags": []
   },
   "source": [
    "Comparison of the options for the purchasing power of tours."
   ]
  },
  {
   "cell_type": "code",
   "execution_count": 69,
   "id": "78d46a02-cc30-4783-9b18-9fc9c6a08012",
   "metadata": {},
   "outputs": [
    {
     "data": {
      "text/html": [
       "<div>\n",
       "<style scoped>\n",
       "    .dataframe tbody tr th:only-of-type {\n",
       "        vertical-align: middle;\n",
       "    }\n",
       "\n",
       "    .dataframe tbody tr th {\n",
       "        vertical-align: top;\n",
       "    }\n",
       "\n",
       "    .dataframe thead th {\n",
       "        text-align: right;\n",
       "    }\n",
       "</style>\n",
       "<table border=\"1\" class=\"dataframe\">\n",
       "  <thead>\n",
       "    <tr style=\"text-align: right;\">\n",
       "      <th>price</th>\n",
       "      <th>10000</th>\n",
       "      <th>60000</th>\n",
       "      <th>100000</th>\n",
       "      <th>150000</th>\n",
       "      <th>200000</th>\n",
       "    </tr>\n",
       "    <tr>\n",
       "      <th>group</th>\n",
       "      <th></th>\n",
       "      <th></th>\n",
       "      <th></th>\n",
       "      <th></th>\n",
       "      <th></th>\n",
       "    </tr>\n",
       "  </thead>\n",
       "  <tbody>\n",
       "    <tr>\n",
       "      <th>A</th>\n",
       "      <td>5182</td>\n",
       "      <td>5271</td>\n",
       "      <td>1832</td>\n",
       "      <td>3478</td>\n",
       "      <td>1724</td>\n",
       "    </tr>\n",
       "    <tr>\n",
       "      <th>B</th>\n",
       "      <td>5201</td>\n",
       "      <td>1730</td>\n",
       "      <td>5227</td>\n",
       "      <td>3438</td>\n",
       "      <td>1694</td>\n",
       "    </tr>\n",
       "  </tbody>\n",
       "</table>\n",
       "</div>"
      ],
      "text/plain": [
       "price  10000   60000   100000  150000  200000\n",
       "group                                        \n",
       "A        5182    5271    1832    3478    1724\n",
       "B        5201    1730    5227    3438    1694"
      ]
     },
     "execution_count": 69,
     "metadata": {},
     "output_type": "execute_result"
    }
   ],
   "source": [
    "df_buy = updated_data.groupby(['group', 'price'])['purchase'].sum().unstack()\n",
    "df_buy = df_buy.drop([0], axis = 1)\n",
    "df_buy"
   ]
  },
  {
   "cell_type": "code",
   "execution_count": 70,
   "id": "f634fa8d-585c-42e3-b7d5-78e8d9eaa8c5",
   "metadata": {},
   "outputs": [
    {
     "data": {
      "text/plain": [
       "<AxesSubplot: xlabel='price', ylabel='group'>"
      ]
     },
     "execution_count": 70,
     "metadata": {},
     "output_type": "execute_result"
    },
    {
     "data": {
      "image/png": "[encoded data removed]",
      "text/plain": [
       "<Figure size 1500x200 with 2 Axes>"
      ]
     },
     "metadata": {},
     "output_type": "display_data"
    }
   ],
   "source": [
    "fig, ax = plt.subplots(figsize=(15,2))\n",
    "sns.heatmap(df_buy, annot=True, linewidths=.9, ax=ax, cmap='coolwarm')"
   ]
  },
  {
   "attachments": {},
   "cell_type": "markdown",
   "id": "6d13fd45-e3df-468f-9d32-1fc45d38b10c",
   "metadata": {},
   "source": [
    "Preliminary conclusions##\n",
    "The number of tours sold for 60,000 rubles in group A - 5271, in group B - 1730.\n",
    "It looks like group A bought cheaper tours, but there is no strong difference."
   ]
  },
  {
   "attachments": {},
   "cell_type": "markdown",
   "id": "8f021fb4-d0f6-4e43-b518-1a96c07a4531",
   "metadata": {
    "tags": []
   },
   "source": [
    "Group the data by date and testing group. In each group, calculate the number of page visits, the number of purchases, and the amount of purchases.\n",
    "\n",
    "Add to the table information about the daily conversion (daily number of purchases / daily number of visits) in the group and the daily average check (daily amount of purchases / daily number of purchases)"
   ]
  },
  {
   "cell_type": "code",
   "execution_count": 71,
   "id": "4503b528-412e-433a-bc03-da7da52fa1a3",
   "metadata": {},
   "outputs": [],
   "source": [
    "df_daily = updated_data.groupby(['group', 'date']).agg({\n",
    "    'user_id':'count',\n",
    "    'purchase':'sum',\n",
    "    'price':'sum'\n",
    "}).reset_index().rename(columns={'user_id': 'count_visits', 'purchase':'count_purchases', 'price':'sum_price'}) \n",
    "df_daily['conversion'] = round((df_daily['count_purchases']/df_daily['count_visits']*100),2)\n",
    "df_daily['mean_check'] = round(df_daily['sum_price']/df_daily['count_purchases'])"
   ]
  },
  {
   "cell_type": "code",
   "execution_count": 72,
   "id": "6909088c",
   "metadata": {},
   "outputs": [
    {
     "data": {
      "text/html": [
       "<div>\n",
       "<style scoped>\n",
       "    .dataframe tbody tr th:only-of-type {\n",
       "        vertical-align: middle;\n",
       "    }\n",
       "\n",
       "    .dataframe tbody tr th {\n",
       "        vertical-align: top;\n",
       "    }\n",
       "\n",
       "    .dataframe thead th {\n",
       "        text-align: right;\n",
       "    }\n",
       "</style>\n",
       "<table border=\"1\" class=\"dataframe\">\n",
       "  <thead>\n",
       "    <tr style=\"text-align: right;\">\n",
       "      <th></th>\n",
       "      <th>group</th>\n",
       "      <th>date</th>\n",
       "      <th>count_visits</th>\n",
       "      <th>count_purchases</th>\n",
       "      <th>sum_price</th>\n",
       "      <th>conversion</th>\n",
       "      <th>mean_check</th>\n",
       "    </tr>\n",
       "  </thead>\n",
       "  <tbody>\n",
       "    <tr>\n",
       "      <th>0</th>\n",
       "      <td>A</td>\n",
       "      <td>2021-01-02</td>\n",
       "      <td>2854</td>\n",
       "      <td>359</td>\n",
       "      <td>29410000</td>\n",
       "      <td>12.58</td>\n",
       "      <td>81922.0</td>\n",
       "    </tr>\n",
       "    <tr>\n",
       "      <th>1</th>\n",
       "      <td>A</td>\n",
       "      <td>2021-01-03</td>\n",
       "      <td>6596</td>\n",
       "      <td>748</td>\n",
       "      <td>62000000</td>\n",
       "      <td>11.34</td>\n",
       "      <td>82888.0</td>\n",
       "    </tr>\n",
       "    <tr>\n",
       "      <th>2</th>\n",
       "      <td>A</td>\n",
       "      <td>2021-01-04</td>\n",
       "      <td>6566</td>\n",
       "      <td>799</td>\n",
       "      <td>64250000</td>\n",
       "      <td>12.17</td>\n",
       "      <td>80413.0</td>\n",
       "    </tr>\n",
       "    <tr>\n",
       "      <th>3</th>\n",
       "      <td>A</td>\n",
       "      <td>2021-01-05</td>\n",
       "      <td>6433</td>\n",
       "      <td>790</td>\n",
       "      <td>64550000</td>\n",
       "      <td>12.28</td>\n",
       "      <td>81709.0</td>\n",
       "    </tr>\n",
       "    <tr>\n",
       "      <th>4</th>\n",
       "      <td>A</td>\n",
       "      <td>2021-01-06</td>\n",
       "      <td>6606</td>\n",
       "      <td>764</td>\n",
       "      <td>63410000</td>\n",
       "      <td>11.57</td>\n",
       "      <td>82997.0</td>\n",
       "    </tr>\n",
       "  </tbody>\n",
       "</table>\n",
       "</div>"
      ],
      "text/plain": [
       "  group       date  count_visits  count_purchases  sum_price  conversion  \\\n",
       "0     A 2021-01-02          2854              359   29410000       12.58   \n",
       "1     A 2021-01-03          6596              748   62000000       11.34   \n",
       "2     A 2021-01-04          6566              799   64250000       12.17   \n",
       "3     A 2021-01-05          6433              790   64550000       12.28   \n",
       "4     A 2021-01-06          6606              764   63410000       11.57   \n",
       "\n",
       "   mean_check  \n",
       "0     81922.0  \n",
       "1     82888.0  \n",
       "2     80413.0  \n",
       "3     81709.0  \n",
       "4     82997.0  "
      ]
     },
     "execution_count": 72,
     "metadata": {},
     "output_type": "execute_result"
    }
   ],
   "source": [
    "df_daily.head()"
   ]
  },
  {
   "cell_type": "code",
   "execution_count": 73,
   "id": "4122d6c8",
   "metadata": {},
   "outputs": [
    {
     "data": {
      "text/html": [
       "<div>\n",
       "<style scoped>\n",
       "    .dataframe tbody tr th:only-of-type {\n",
       "        vertical-align: middle;\n",
       "    }\n",
       "\n",
       "    .dataframe tbody tr th {\n",
       "        vertical-align: top;\n",
       "    }\n",
       "\n",
       "    .dataframe thead th {\n",
       "        text-align: right;\n",
       "    }\n",
       "</style>\n",
       "<table border=\"1\" class=\"dataframe\">\n",
       "  <thead>\n",
       "    <tr style=\"text-align: right;\">\n",
       "      <th></th>\n",
       "      <th>group</th>\n",
       "      <th>date</th>\n",
       "      <th>count_visits</th>\n",
       "      <th>count_purchases</th>\n",
       "      <th>sum_price</th>\n",
       "      <th>conversion</th>\n",
       "      <th>mean_check</th>\n",
       "    </tr>\n",
       "  </thead>\n",
       "  <tbody>\n",
       "    <tr>\n",
       "      <th>0</th>\n",
       "      <td>A</td>\n",
       "      <td>2021-01-02</td>\n",
       "      <td>2854</td>\n",
       "      <td>359</td>\n",
       "      <td>29410000</td>\n",
       "      <td>12.58</td>\n",
       "      <td>81922.0</td>\n",
       "    </tr>\n",
       "    <tr>\n",
       "      <th>1</th>\n",
       "      <td>A</td>\n",
       "      <td>2021-01-03</td>\n",
       "      <td>6596</td>\n",
       "      <td>748</td>\n",
       "      <td>62000000</td>\n",
       "      <td>11.34</td>\n",
       "      <td>82888.0</td>\n",
       "    </tr>\n",
       "    <tr>\n",
       "      <th>2</th>\n",
       "      <td>A</td>\n",
       "      <td>2021-01-04</td>\n",
       "      <td>6566</td>\n",
       "      <td>799</td>\n",
       "      <td>64250000</td>\n",
       "      <td>12.17</td>\n",
       "      <td>80413.0</td>\n",
       "    </tr>\n",
       "    <tr>\n",
       "      <th>3</th>\n",
       "      <td>A</td>\n",
       "      <td>2021-01-05</td>\n",
       "      <td>6433</td>\n",
       "      <td>790</td>\n",
       "      <td>64550000</td>\n",
       "      <td>12.28</td>\n",
       "      <td>81709.0</td>\n",
       "    </tr>\n",
       "    <tr>\n",
       "      <th>4</th>\n",
       "      <td>A</td>\n",
       "      <td>2021-01-06</td>\n",
       "      <td>6606</td>\n",
       "      <td>764</td>\n",
       "      <td>63410000</td>\n",
       "      <td>11.57</td>\n",
       "      <td>82997.0</td>\n",
       "    </tr>\n",
       "    <tr>\n",
       "      <th>23</th>\n",
       "      <td>B</td>\n",
       "      <td>2021-01-02</td>\n",
       "      <td>2861</td>\n",
       "      <td>345</td>\n",
       "      <td>29660000</td>\n",
       "      <td>12.06</td>\n",
       "      <td>85971.0</td>\n",
       "    </tr>\n",
       "    <tr>\n",
       "      <th>24</th>\n",
       "      <td>B</td>\n",
       "      <td>2021-01-03</td>\n",
       "      <td>6619</td>\n",
       "      <td>754</td>\n",
       "      <td>65960000</td>\n",
       "      <td>11.39</td>\n",
       "      <td>87480.0</td>\n",
       "    </tr>\n",
       "    <tr>\n",
       "      <th>25</th>\n",
       "      <td>B</td>\n",
       "      <td>2021-01-04</td>\n",
       "      <td>6536</td>\n",
       "      <td>764</td>\n",
       "      <td>68030000</td>\n",
       "      <td>11.69</td>\n",
       "      <td>89045.0</td>\n",
       "    </tr>\n",
       "    <tr>\n",
       "      <th>26</th>\n",
       "      <td>B</td>\n",
       "      <td>2021-01-05</td>\n",
       "      <td>6511</td>\n",
       "      <td>749</td>\n",
       "      <td>63550000</td>\n",
       "      <td>11.50</td>\n",
       "      <td>84846.0</td>\n",
       "    </tr>\n",
       "    <tr>\n",
       "      <th>27</th>\n",
       "      <td>B</td>\n",
       "      <td>2021-01-06</td>\n",
       "      <td>6751</td>\n",
       "      <td>838</td>\n",
       "      <td>75020000</td>\n",
       "      <td>12.41</td>\n",
       "      <td>89523.0</td>\n",
       "    </tr>\n",
       "  </tbody>\n",
       "</table>\n",
       "</div>"
      ],
      "text/plain": [
       "   group       date  count_visits  count_purchases  sum_price  conversion  \\\n",
       "0      A 2021-01-02          2854              359   29410000       12.58   \n",
       "1      A 2021-01-03          6596              748   62000000       11.34   \n",
       "2      A 2021-01-04          6566              799   64250000       12.17   \n",
       "3      A 2021-01-05          6433              790   64550000       12.28   \n",
       "4      A 2021-01-06          6606              764   63410000       11.57   \n",
       "23     B 2021-01-02          2861              345   29660000       12.06   \n",
       "24     B 2021-01-03          6619              754   65960000       11.39   \n",
       "25     B 2021-01-04          6536              764   68030000       11.69   \n",
       "26     B 2021-01-05          6511              749   63550000       11.50   \n",
       "27     B 2021-01-06          6751              838   75020000       12.41   \n",
       "\n",
       "    mean_check  \n",
       "0      81922.0  \n",
       "1      82888.0  \n",
       "2      80413.0  \n",
       "3      81709.0  \n",
       "4      82997.0  \n",
       "23     85971.0  \n",
       "24     87480.0  \n",
       "25     89045.0  \n",
       "26     84846.0  \n",
       "27     89523.0  "
      ]
     },
     "execution_count": 73,
     "metadata": {},
     "output_type": "execute_result"
    }
   ],
   "source": [
    "exp = df_daily.groupby(['group'])\n",
    "exp.head()"
   ]
  },
  {
   "cell_type": "code",
   "execution_count": 74,
   "id": "146d423a",
   "metadata": {},
   "outputs": [
    {
     "data": {
      "text/plain": [
       "1     11.34\n",
       "24    11.39\n",
       "Name: conversion, dtype: float64"
      ]
     },
     "execution_count": 74,
     "metadata": {},
     "output_type": "execute_result"
    }
   ],
   "source": [
    "#the conversion on January 3, 2021\n",
    "df_daily[df_daily['date']=='2021-01-03']['conversion']"
   ]
  },
  {
   "cell_type": "code",
   "execution_count": 75,
   "id": "81a7f176",
   "metadata": {},
   "outputs": [
    {
     "data": {
      "text/plain": [
       "1     82888.0\n",
       "24    87480.0\n",
       "Name: mean_check, dtype: float64"
      ]
     },
     "execution_count": 75,
     "metadata": {},
     "output_type": "execute_result"
    }
   ],
   "source": [
    "#the average check on January 3, 2021\n",
    "df_daily[df_daily['date']=='2021-01-03']['mean_check']"
   ]
  },
  {
   "attachments": {},
   "cell_type": "markdown",
   "id": "bc8e241b-1ef1-4f67-ab90-77251889b7f2",
   "metadata": {},
   "source": [
    "Add cumulative signs to the table with daily indicators:\n",
    "* cumulative number of page visits\n",
    "* cumulative number of purchases\n",
    "* cumulative amount of purchases\n",
    "\n",
    "Calculate the cumulative conversion and the cumulative average check based on the obtained cumulative indicators."
   ]
  },
  {
   "cell_type": "code",
   "execution_count": 76,
   "id": "afe59f9a-8d39-45c1-a14f-9f62091d81a1",
   "metadata": {},
   "outputs": [],
   "source": [
    "df_daily['cum_visits'] = df_daily.groupby(['group'])['count_visits'].cumsum()\n",
    "df_daily['cum_purchases'] = df_daily.groupby(['group'])['count_purchases'].cumsum()\n",
    "df_daily['cum_sum_price'] = df_daily.groupby(['group'])['sum_price'].cumsum()\n",
    "\n",
    "df_daily['cum_conversion'] = round((df_daily['cum_purchases']/df_daily['cum_visits']*100),2)\n",
    "df_daily['cum_mean_check'] = round(df_daily['cum_sum_price']/df_daily['cum_purchases'])\n"
   ]
  },
  {
   "cell_type": "code",
   "execution_count": 77,
   "id": "2e2eefbf",
   "metadata": {},
   "outputs": [
    {
     "data": {
      "text/plain": [
       "41    11.9\n",
       "Name: cum_conversion, dtype: float64"
      ]
     },
     "execution_count": 77,
     "metadata": {},
     "output_type": "execute_result"
    }
   ],
   "source": [
    "#**cumulative** conversion of group B on January 20th\n",
    "df_daily[(df_daily['date']=='2021-01-20')&(df_daily['group']=='B')]['cum_conversion']"
   ]
  },
  {
   "cell_type": "code",
   "execution_count": 78,
   "id": "604b6988",
   "metadata": {},
   "outputs": [
    {
     "data": {
      "text/plain": [
       "10    81492.0\n",
       "Name: cum_mean_check, dtype: float64"
      ]
     },
     "execution_count": 78,
     "metadata": {},
     "output_type": "execute_result"
    }
   ],
   "source": [
    "#**cumulative** average check in Group A on January 12, 2021\n",
    "df_daily[(df_daily['date']=='2021-01-12')&(df_daily['group']=='A')]['cum_mean_check']"
   ]
  },
  {
   "attachments": {},
   "cell_type": "markdown",
   "id": "c252b8ba-371b-4795-8fc3-a62317e9ba39",
   "metadata": {},
   "source": [
    "Plot cumulative conversion and average check graphs in each group by day."
   ]
  },
  {
   "cell_type": "code",
   "execution_count": 79,
   "id": "27e23d20-7ed6-4a26-973d-6d0320b81adb",
   "metadata": {},
   "outputs": [
    {
     "data": {
      "image/png": "[encoded data removed]",
      "text/plain": [
       "<Figure size 800x400 with 1 Axes>"
      ]
     },
     "metadata": {},
     "output_type": "display_data"
    }
   ],
   "source": [
    "fig = plt.figure(figsize=(8, 4))\n",
    "ax = fig.add_axes([1, 1, 1, 1])\n",
    "sns.lineplot(x='date', y='cum_conversion', data=df_daily, hue='group', ax=ax)\n",
    "ax.set_title('Cumulative conversion plot, days')\n",
    "ax.xaxis.set_tick_params(rotation = 45)\n",
    "ax.grid(True);"
   ]
  },
  {
   "cell_type": "code",
   "execution_count": 80,
   "id": "f03debbf",
   "metadata": {},
   "outputs": [
    {
     "data": {
      "image/png": "[encoded data removed]",
      "text/plain": [
       "<Figure size 800x400 with 1 Axes>"
      ]
     },
     "metadata": {},
     "output_type": "display_data"
    }
   ],
   "source": [
    "fig = plt.figure(figsize=(8, 4))\n",
    "ax = fig.add_axes([1, 1, 1, 1])\n",
    "sns.lineplot(x='date', y='cum_mean_check', data=df_daily, hue='group', ax=ax)\n",
    "ax.set_title('Average check plot, days')\n",
    "ax.xaxis.set_tick_params(rotation = 45)\n",
    "ax.grid(True);"
   ]
  },
  {
   "attachments": {},
   "cell_type": "markdown",
   "id": "f645f8e5-ad16-4b3b-8228-fbdeeb286833",
   "metadata": {},
   "source": [
    "Preliminary conclusions##\n",
    "We can say that the data is stable.##\n",
    "We see almost no difference in conversions and a huge difference in the average check"
   ]
  },
  {
   "attachments": {},
   "cell_type": "markdown",
   "id": "2ecaa382-56e2-47f4-b086-24b4742570a3",
   "metadata": {
    "tags": []
   },
   "source": [
    "Statistical analysis\n",
    "\n",
    "The following null and alternative hypotheses:\n",
    "* $H_0$: Conversions in groups A and B are equal;\n",
    "* $H_1$: Group A conversion is greater than group B conversion;\n",
    "\n",
    "$\\alpha$=0.05. "
   ]
  },
  {
   "cell_type": "code",
   "execution_count": 81,
   "id": "9dd1f6fd-2fa0-4a2f-8181-dbed4c302bce",
   "metadata": {},
   "outputs": [
    {
     "name": "stdout",
     "output_type": "stream",
     "text": [
      "0.21282652662991042\n"
     ]
    }
   ],
   "source": [
    "#p value\n",
    "from statsmodels.stats import weightstats\n",
    "_ ,p = weightstats.ztest(df_daily[df_daily['group']==\"A\"]['conversion'], x2=df_daily[df_daily['group']==\"B\"]['conversion'], value=0,alternative='two-sided')\n",
    "print(float(p))"
   ]
  },
  {
   "cell_type": "code",
   "execution_count": 82,
   "id": "acea4de6",
   "metadata": {},
   "outputs": [
    {
     "data": {
      "text/plain": [
       "0.2194196507603395"
      ]
     },
     "execution_count": 82,
     "metadata": {},
     "output_type": "execute_result"
    }
   ],
   "source": [
    "#p value\n",
    "from scipy.stats import ttest_ind\n",
    "_ ,p = ttest_ind(df_daily[df_daily['group']==\"A\"]['conversion'], df_daily[df_daily['group']==\"B\"]['conversion'], equal_var=True)\n",
    "p"
   ]
  },
  {
   "attachments": {},
   "cell_type": "markdown",
   "id": "75dddb06-389d-4d65-92c7-425efa28e51a",
   "metadata": {},
   "source": [
    "Conclusions##\n",
    "No statistical difference"
   ]
  },
  {
   "attachments": {},
   "cell_type": "markdown",
   "id": "32c5a1af-8cb2-4f3c-a126-410b70fb3ff3",
   "metadata": {
    "tags": []
   },
   "source": [
    "Count a 95% confidence interval for conversions and the difference between them. Use $z_{crit}$ in your calculations\n",
    "\n",
    "Specify the lower and upper limits of the confidence intervals. Give the boundaries as a percentage and round to 2 decimal places. "
   ]
  },
  {
   "cell_type": "code",
   "execution_count": 83,
   "id": "b5dd6f91",
   "metadata": {},
   "outputs": [
    {
     "data": {
      "text/html": [
       "<div>\n",
       "<style scoped>\n",
       "    .dataframe tbody tr th:only-of-type {\n",
       "        vertical-align: middle;\n",
       "    }\n",
       "\n",
       "    .dataframe tbody tr th {\n",
       "        vertical-align: top;\n",
       "    }\n",
       "\n",
       "    .dataframe thead th {\n",
       "        text-align: right;\n",
       "    }\n",
       "</style>\n",
       "<table border=\"1\" class=\"dataframe\">\n",
       "  <thead>\n",
       "    <tr style=\"text-align: right;\">\n",
       "      <th></th>\n",
       "      <th>user_id</th>\n",
       "      <th>date</th>\n",
       "      <th>group</th>\n",
       "      <th>purchase</th>\n",
       "      <th>price</th>\n",
       "    </tr>\n",
       "  </thead>\n",
       "  <tbody>\n",
       "    <tr>\n",
       "      <th>0</th>\n",
       "      <td>851104</td>\n",
       "      <td>2021-01-21</td>\n",
       "      <td>A</td>\n",
       "      <td>0</td>\n",
       "      <td>0</td>\n",
       "    </tr>\n",
       "    <tr>\n",
       "      <th>1</th>\n",
       "      <td>804228</td>\n",
       "      <td>2021-01-12</td>\n",
       "      <td>A</td>\n",
       "      <td>0</td>\n",
       "      <td>0</td>\n",
       "    </tr>\n",
       "    <tr>\n",
       "      <th>4</th>\n",
       "      <td>864975</td>\n",
       "      <td>2021-01-21</td>\n",
       "      <td>A</td>\n",
       "      <td>1</td>\n",
       "      <td>150000</td>\n",
       "    </tr>\n",
       "    <tr>\n",
       "      <th>5</th>\n",
       "      <td>936923</td>\n",
       "      <td>2021-01-10</td>\n",
       "      <td>A</td>\n",
       "      <td>0</td>\n",
       "      <td>0</td>\n",
       "    </tr>\n",
       "    <tr>\n",
       "      <th>7</th>\n",
       "      <td>719014</td>\n",
       "      <td>2021-01-17</td>\n",
       "      <td>A</td>\n",
       "      <td>0</td>\n",
       "      <td>0</td>\n",
       "    </tr>\n",
       "  </tbody>\n",
       "</table>\n",
       "</div>"
      ],
      "text/plain": [
       "   user_id       date group  purchase   price\n",
       "0   851104 2021-01-21     A         0       0\n",
       "1   804228 2021-01-12     A         0       0\n",
       "4   864975 2021-01-21     A         1  150000\n",
       "5   936923 2021-01-10     A         0       0\n",
       "7   719014 2021-01-17     A         0       0"
      ]
     },
     "execution_count": 83,
     "metadata": {},
     "output_type": "execute_result"
    }
   ],
   "source": [
    "dfa = updated_data[updated_data['group']==\"A\"]\n",
    "dfb = updated_data[updated_data['group']==\"B\"]\n",
    "dfa.head()"
   ]
  },
  {
   "cell_type": "code",
   "execution_count": 84,
   "id": "e9decb7d-ff5e-40a6-8b71-63627c4ef64a",
   "metadata": {},
   "outputs": [
    {
     "name": "stdout",
     "output_type": "stream",
     "text": [
      "Confidence interval for group A conversion: (11.87, 12.2)\n",
      "Confidence interval for group B conversion: (11.73, 12.06)\n"
     ]
    }
   ],
   "source": [
    "def proportions_conf_interval(n, x_p, gamma=0.95):   \n",
    "    alpha = 1 - gamma \n",
    "    z_crit = -norm.ppf(alpha/2) # z crit\n",
    "    eps = z_crit * (x_p * (1 - x_p) / n) ** 0.5 #sds\n",
    "    lower_bound = x_p - eps \n",
    "    upper_bound = x_p + eps \n",
    "    return round(lower_bound * 100, 2), round(upper_bound * 100, 2)\n",
    "\n",
    "conf_interval_a = proportions_conf_interval(\n",
    "n=dfa['user_id'].count(), # sample size\n",
    "x_p=dfa['purchase'].mean() # sample\n",
    ")\n",
    "conf_interval_b = proportions_conf_interval(\n",
    "n=dfb['user_id'].count(), \n",
    "x_p=dfb['purchase'].mean() \n",
    ")\n",
    "print('Confidence interval for group A conversion: {}'.format(conf_interval_a))\n",
    "print('Confidence interval for group B conversion: {}'.format(conf_interval_b))"
   ]
  },
  {
   "cell_type": "code",
   "execution_count": 85,
   "id": "e553ac75",
   "metadata": {},
   "outputs": [
    {
     "name": "stdout",
     "output_type": "stream",
     "text": [
      "Confidence interval for conversion difference: (-0.38, 0.09)\n"
     ]
    }
   ],
   "source": [
    "def diff_proportions_conf_interval(n, xp, gamma=0.95):\n",
    "    alpha = 1 - gamma \n",
    "    diff = xp[1] - xp[0] \n",
    "    z_crit = -norm.ppf(alpha/2) \n",
    "    eps = z_crit * (xp[0] * (1 - xp[0])/n[0] + xp[1] * (1 - xp[1])/n[1]) ** 0.5 \n",
    "    lower_bound = diff - eps \n",
    "    upper_bound = diff + eps \n",
    "    return round(lower_bound *100, 2), round(upper_bound * 100, 2)\n",
    "\n",
    "\n",
    "n = [dfa['user_id'].count(), dfb['user_id'].count()]\n",
    "\n",
    "xp = [dfa['purchase'].mean(), dfb['purchase'].mean()]\n",
    "\n",
    "diff_inverval = diff_proportions_conf_interval(n, xp)\n",
    "print('Confidence interval for conversion difference: {}'.format(diff_inverval))"
   ]
  },
  {
   "attachments": {},
   "cell_type": "markdown",
   "id": "7ed8f83f",
   "metadata": {},
   "source": [
    "Conclusions##\n",
    "Confidence intervals intersect.##\n",
    "CI for the difference lies between a negative and a positive number - no difference in conversions"
   ]
  },
  {
   "attachments": {},
   "cell_type": "markdown",
   "id": "73c54883-b919-4889-bbf2-e1bdeb0b7055",
   "metadata": {},
   "source": [
    "Test the hypothesis about the normal distribution of the daily average check in each of the testing groups.\n",
    "\n",
    "* What test would you use to test the hypothesis that the distribution of the average daily check is normal?\n",
    "* What would the null and alternative hypotheses sound like?\n",
    "* What are the results of the statistical test with the $\\alpha$ =0.05 significance level?"
   ]
  },
  {
   "cell_type": "code",
   "execution_count": 86,
   "id": "898041ae-de7e-4b74-975e-111d494fbb82",
   "metadata": {},
   "outputs": [
    {
     "name": "stdout",
     "output_type": "stream",
     "text": [
      "p-value group А 0.25\n",
      "p-value group B 0.09\n"
     ]
    }
   ],
   "source": [
    "alpha = 0.05\n",
    "#H0 - groups are normally distributed\n",
    "#H1 - groups are paranormally distributed\n",
    "shapiro_result_a = shapiro(df_daily[df_daily['group']=='A']['mean_check'])\n",
    "shapiro_result_b = shapiro(df_daily[df_daily['group']=='B']['mean_check'])\n",
    "print('p-value group А', round(shapiro_result_a.pvalue, 2))\n",
    "print('p-value group B', round(shapiro_result_b.pvalue, 2))"
   ]
  },
  {
   "attachments": {},
   "cell_type": "markdown",
   "id": "041a6b1f",
   "metadata": {},
   "source": [
    "Conclusions##\n",
    "Groups are normally distributed"
   ]
  },
  {
   "attachments": {},
   "cell_type": "markdown",
   "id": "cbddecf9-4d15-4ff1-84e9-46c4d98fc1e0",
   "metadata": {
    "tags": []
   },
   "source": [
    "Test under the following null and alternative hypotheses:\n",
    "* $H_0$: Daily average checks in groups A and B are equal;\n",
    "* $H_1$: Daily average check in group A is less than in group B;\n",
    "\n",
    "Calculate the p-value of your test for the daily average check in groups A and B. Compare the resulting p-value with the significance level $\\alpha$ =0.05."
   ]
  },
  {
   "cell_type": "code",
   "execution_count": 87,
   "id": "05d43f23-2c2d-4795-bb96-1ffbfe81c391",
   "metadata": {},
   "outputs": [
    {
     "data": {
      "text/plain": [
       "0.0"
      ]
     },
     "execution_count": 87,
     "metadata": {},
     "output_type": "execute_result"
    }
   ],
   "source": [
    "from scipy.stats import ttest_ind\n",
    "_ ,p = ttest_ind(df_daily[df_daily['group']==\"A\"]['mean_check'], df_daily[df_daily['group']==\"B\"]['mean_check'], equal_var=True)\n",
    "round(p,2)"
   ]
  },
  {
   "attachments": {},
   "cell_type": "markdown",
   "id": "043bdf0c",
   "metadata": {},
   "source": [
    "Conclusions##\n",
    "The p value tends to 0, which means there is a statistical difference"
   ]
  },
  {
   "attachments": {},
   "cell_type": "markdown",
   "id": "5e46c9a6-a943-48b4-ad72-935337469613",
   "metadata": {
    "tags": []
   },
   "source": [
    "Count a 95% confidence interval for the average check in each group. Since the sample of average checks is small, use $t_{crit}$ in your calculations.\n",
    "\n",
    "Specify the lower limit of the confidence interval for the true average check of each of the groups. Give your answer as a percentage and round to the nearest whole number."
   ]
  },
  {
   "cell_type": "code",
   "execution_count": 88,
   "id": "480430db-ffae-4aad-8e22-f5c70d4800b8",
   "metadata": {},
   "outputs": [
    {
     "name": "stdout",
     "output_type": "stream",
     "text": [
      "Confidence interval for group A conversion: (79630, 82308)\n",
      "Confidence interval for group B conversion: (87626, 89526)\n"
     ]
    }
   ],
   "source": [
    "from scipy.stats import t\n",
    "\n",
    "dfa_t = df_daily[df_daily['group']=='A']\n",
    "dfb_t = df_daily[df_daily['group']=='B']\n",
    "\n",
    "def proportions_conf_interval_t(n, x_p, std, gamma=0.95): \n",
    "    alpha = 1 - gamma \n",
    "    k=n-1\n",
    "    t_crit = -t.ppf(alpha/2,k) \n",
    "    eps = t_crit * std/(n ** 0.5) \n",
    "    lower_bound = x_p - eps \n",
    "    upper_bound = x_p + eps \n",
    "    confidence_interval = (round(lower_bound), round(upper_bound))\n",
    "    return confidence_interval\n",
    "\n",
    "conf_interval_a_t = proportions_conf_interval_t(\n",
    "x_p=dfa_t['mean_check'].mean(), \n",
    "n=dfa_t['date'].count(),\n",
    "std = dfa_t['mean_check'].std()\n",
    ")\n",
    "\n",
    "conf_interval_b_t = proportions_conf_interval_t(\n",
    "x_p=dfb_t['mean_check'].mean(), \n",
    "n=dfb_t['date'].count(),\n",
    "std = dfb_t['mean_check'].std() \n",
    ")\n",
    "\n",
    "print('Confidence interval for group A conversion: {}'.format(conf_interval_a_t))\n",
    "print('Confidence interval for group B conversion: {}'.format(conf_interval_b_t))"
   ]
  },
  {
   "attachments": {},
   "cell_type": "markdown",
   "id": "25d5aa4a",
   "metadata": {},
   "source": [
    "Conclusions##\n",
    "There are no intersections, which means that we can assume that in group B the average check is actually higher"
   ]
  },
  {
   "attachments": {},
   "cell_type": "markdown",
   "id": "c078852f-892f-42ed-8d78-73edf8eb1f5e",
   "metadata": {
    "tags": []
   },
   "source": [
    "## **Main conclusions on A/B test**\n"
   ]
  },
  {
   "attachments": {},
   "cell_type": "markdown",
   "id": "156adc32",
   "metadata": {},
   "source": [
    "The analysis showed that the design does not affect the number of purchases, however, it increases the likelihood of buying expensive tours, which can be seen in the frequency of buying expensive tours and a decent difference in the average check"
   ]
  }
 ],
 "metadata": {
  "kernelspec": {
   "display_name": "base",
   "language": "python",
   "name": "python3"
  },
  "language_info": {
   "codemirror_mode": {
    "name": "ipython",
    "version": 3
   },
   "file_extension": ".py",
   "mimetype": "text/x-python",
   "name": "python",
   "nbconvert_exporter": "python",
   "pygments_lexer": "ipython3",
   "version": "3.9.13"
  },
  "vscode": {
   "interpreter": {
    "hash": "fdbcfec06861b0c06d4d78936ce926ba857b3efbbe8e0d851d306c814d185928"
   }
  }
 },
 "nbformat": 4,
 "nbformat_minor": 5
}
